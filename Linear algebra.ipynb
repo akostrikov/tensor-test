{
 "cells": [
  {
   "cell_type": "markdown",
   "metadata": {},
   "source": [
    "Cost Function\n",
    "=============\n",
    "\n",
    "We can measure the accuracy of our hypothesis function by using a cost function.\n",
    "This takes an average difference (actually a fancier version of an average) of all the results of the hypothesis with inputs from x's and the actual output y's.\n",
    "\n",
    "J(θ1,θ2) = 1/(2*m) * sum((h(x) - y)^2)\n",
    "\n",
    "This function is otherwise called the \"Squared error function\", or \"Mean squared error\". The mean is halved (12) as a convenience for the computation of the gradient descent, as the derivative term of the square function will cancel out the 12 term. \n",
    "\n",
    "Gradient Descent\n",
    "===============\n",
    "\n",
    "So we have our hypothesis function and we have a way of measuring how well it fits into the data. Now we need to estimate the parameters in the hypothesis function. That's where gradient descent comes in.\n",
    "\n",
    "θj:=θj−α ∂/∂θj * J(θ0,θ1)\n",
    "\n",
    "Correct (simultaneous update):\n",
    "temp0 = θ0:= θ0−α ∂/∂θ0 * J(θ0,θ1)\n",
    "temp1 = θ1−α ∂/∂θ1 * J(θ0,θ1)\n",
    "θ0:= temp0\n",
    "θ1:= temp1\n",
    "Incorrect:\n",
    "temp0 = θ0:= θ0−α ∂/∂θ0 * J(θ0,θ1)\n",
    "\n",
    "θ0:= temp0\n",
    "temp1 = θ1−α ∂/∂θ1 * J(θ0,θ1)\n",
    "θ1:= temp1\n",
    "\n",
    "With fixed α it is possible to converge due to fact that delta is decreasing too.\n",
    "dJ(θ)/dθj  = d(1/(2*m) * sum((h(x) - y)^2))/dθj = \n",
    "\n",
    "2*1/2*(h(x) - y)*d(h(x) - y)/dθj =\n",
    "\n",
    "(h(x) - y)*d(sum(θi*xi - y))/dθj = \n",
    "\n",
    "(h(x) - y) * xi\n",
    "\n",
    "\n",
    "Normal Equation\n",
    "========\n",
    "\n",
    "θ=pinv(X'X)X'y\n",
    "Gradient Descent\t        |Normal Equation\n",
    "Need to choose alpha\t    |No need to choose alpha\n",
    "Needs many iterations\t    |No need to iterate\n",
    "O (kn2)\t                    |O (n3), need to calculate inverse of XTX\n",
    "Works well when n is large\t|Slow if n is very large"
   ]
  },
  {
   "cell_type": "markdown",
   "metadata": {},
   "source": [
    "Cost function\n",
    "=============\n",
    "\n",
    "Cost function is used to define if we are close to solve.\n",
    "We take 1/(2 * number of samples aka rows)* sum((hipo - y)^2).\n",
    "Square to normalize sign and values."
   ]
  },
  {
   "cell_type": "code",
   "execution_count": 35,
   "metadata": {
    "collapsed": false
   },
   "outputs": [
    {
     "name": "stdout",
     "output_type": "stream",
     "text": [
      "[[  0.62843      0.62843      0.62843      0.62843      0.62843      0.62843\n",
      "    0.62843      0.62843      0.62843      0.62843      0.62843      0.62843\n",
      "    0.62843      0.62843      0.62843      0.62843      0.62843      0.62843\n",
      "    0.62843      0.62843   ]\n",
      " [  3.49222144   4.23860649   4.98499155   5.73137661   6.47776166\n",
      "    7.22414672   7.97053178   8.71691683   9.46330189  10.20968695\n",
      "   10.95607201  11.70245706  12.44894313  13.19532819  13.94171325\n",
      "   14.6880983   15.43448336  16.18086842  16.92725348  17.67363853]]\n",
      "[  4.12065144   4.86703649   5.61342155   6.35980661   7.10619166\n",
      "   7.85257672   8.59896178   9.34534683  10.09173189  10.83811695\n",
      "  11.58450201  12.33088706  13.07737313  13.82375819  14.57014325\n",
      "  15.3165283   16.06291336  16.80929842  17.55568348  18.30206853]\n",
      "[ 0.59699024  0.10441719  0.1472859   0.95178247  1.29893509  0.61861887\n",
      "  0.00931963  0.32998917  0.77480818  0.44264664  0.00207954  0.42472975\n",
      "  1.12132611  0.9212963   0.1618105   0.10694751  0.72490471  0.81251911\n",
      "  0.20673706  0.06336873]\n",
      "9.82051270795\n",
      "0.245512817699\n",
      "7.18230118682e-06\n"
     ]
    }
   ],
   "source": [
    "import numpy as np\n",
    "X = np.array([\n",
    "    [1.0000, 1.0000, 1.0000, 1.0000, 1.0000, 1.0000,    \n",
    "     1.0000, 1.0000, 1.0000, 1.0000, 1.0000, 1.0000,   \n",
    "     1.0000, 1.0000, 1.0000, 1.0000, 1.0000, 1.0000, \n",
    "     1.0000, 1.0000],\n",
    "    [3.4572, 4.1961, 4.9350, 5.6739, 6.4128, 7.1517, \n",
    "     7.8906, 8.6295, 9.3684, 10.1073, 10.8462, 11.5851,\n",
    "     12.3241, 13.0630, 13.8019, 14.5408, 15.2797, 16.0186, \n",
    "     16.7575, 17.4964]\n",
    "    ], dtype=np.float)\n",
    "\n",
    "y = \\\n",
    "np.array([\n",
    "    3.3480,\n",
    "    4.5439,\n",
    "    5.9972,\n",
    "    7.3354,\n",
    "    8.2459,\n",
    "    8.6391,\n",
    "    8.6955,\n",
    "    8.7709,\n",
    "    9.2115,\n",
    "   10.1728,\n",
    "   11.5389,\n",
    "   12.9826,\n",
    "   14.1363,\n",
    "   14.7836,\n",
    "   14.9724,\n",
    "   14.9895,\n",
    "   15.2115,\n",
    "   15.9079,\n",
    "   17.1010,\n",
    "   18.5538\n",
    "])\n",
    "theta = \\\n",
    "np.array([\n",
    "   [0.62843],\n",
    "   [1.01013]\n",
    "])\n",
    "J =  0.24552\n",
    "def cost_function(x_,y_,th_):\n",
    "    sum_x = x_ * th_\n",
    "    print(sum_x)\n",
    "    hipo = sum_x.sum(axis=0)\n",
    "    print(hipo)\n",
    "    hipo_diff = (hipo - y_)**2\n",
    "    print(hipo_diff)\n",
    "    sum_y = (hipo_diff).sum()\n",
    "    print(sum_y)\n",
    "    return 1.0/(2*x_.shape[1])*sum_y\n",
    "\n",
    "#  print()\n",
    "jj = cost_function(X,y,theta)\n",
    "print jj\n",
    "epsilon = 0.001\n",
    "print(abs(J - jj))\n",
    "assert(abs(J - jj)<epsilon)\n",
    "#1/(2*size(X)(1))*sum((X*theta - y).^2);"
   ]
  },
  {
   "cell_type": "markdown",
   "metadata": {},
   "source": [
    "Gradient descent\n",
    "==============="
   ]
  },
  {
   "cell_type": "code",
   "execution_count": null,
   "metadata": {
    "collapsed": true
   },
   "outputs": [],
   "source": []
  }
 ],
 "metadata": {
  "kernelspec": {
   "display_name": "Python 2",
   "language": "python",
   "name": "python2"
  },
  "language_info": {
   "codemirror_mode": {
    "name": "ipython",
    "version": 2
   },
   "file_extension": ".py",
   "mimetype": "text/x-python",
   "name": "python",
   "nbconvert_exporter": "python",
   "pygments_lexer": "ipython2",
   "version": "2.7.11"
  }
 },
 "nbformat": 4,
 "nbformat_minor": 2
}
