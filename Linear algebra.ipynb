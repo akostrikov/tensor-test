{
 "cells": [
  {
   "cell_type": "markdown",
   "metadata": {},
   "source": [
    "Cost Function\n",
    "=======\n",
    "\n",
    "We can measure the accuracy of our hypothesis function by using a cost function.\n",
    "This takes an average difference (actually a fancier version of an average) of all the results of the hypothesis with inputs from x's and the actual output y's.\n",
    "\n",
    "J(θ1,θ2) = 1/(2*m) * sum((h(x) - y)^2)\n",
    "\n",
    "This function is otherwise called the \"Squared error function\", or \"Mean squared error\". The mean is halved (12) as a convenience for the computation of the gradient descent, as the derivative term of the square function will cancel out the 12 term. \n",
    "\n",
    "Gradient Descent\n",
    "=========\n",
    "\n",
    "So we have our hypothesis function and we have a way of measuring how well it fits into the data. Now we need to estimate the parameters in the hypothesis function. That's where gradient descent comes in.\n",
    "\n",
    "θj:=θj−α ∂/∂θj * J(θ0,θ1)\n",
    "\n",
    "Correct (simultaneous update):\n",
    "temp0 = θ0:= θ0−α ∂/∂θ0 * J(θ0,θ1)\n",
    "temp1 = θ1−α ∂/∂θ1 * J(θ0,θ1)\n",
    "θ0:= temp0\n",
    "θ1:= temp1\n",
    "Incorrect:\n",
    "temp0 = θ0:= θ0−α ∂/∂θ0 * J(θ0,θ1)\n",
    "\n",
    "θ0:= temp0\n",
    "temp1 = θ1−α ∂/∂θ1 * J(θ0,θ1)\n",
    "θ1:= temp1\n",
    "\n",
    "With fixed α it is possible to converge due to fact that delta is decreasing too.\n",
    "dJ(θ)/dθj  = d(1/(2*m) * sum((h(x) - y)^2))/dθj = \n",
    "2*1/2*(h(x) - y)*d(h(x) - y)/dθj =\n",
    "(h(x) - y)*d(sum(θi*xi - y))/dθj = \n",
    "(h(x) - y) * xi\n",
    "\n",
    "\n",
    "Normal Equation\n",
    "========\n",
    "\n",
    "θ=(XTX)−1XTy\n",
    "Gradient Descent\t        |Normal Equation\n",
    "Need to choose alpha\t    |No need to choose alpha\n",
    "Needs many iterations\t    |No need to iterate\n",
    "O (kn2)\t                    |O (n3), need to calculate inverse of XTX\n",
    "Works well when n is large\t|Slow if n is very large"
   ]
  }
 ],
 "metadata": {
  "kernelspec": {
   "display_name": "Python 2",
   "language": "python",
   "name": "python2"
  },
  "language_info": {
   "codemirror_mode": {
    "name": "ipython",
    "version": 2
   },
   "file_extension": ".py",
   "mimetype": "text/x-python",
   "name": "python",
   "nbconvert_exporter": "python",
   "pygments_lexer": "ipython2",
   "version": "2.7.12"
  }
 },
 "nbformat": 4,
 "nbformat_minor": 2
}
